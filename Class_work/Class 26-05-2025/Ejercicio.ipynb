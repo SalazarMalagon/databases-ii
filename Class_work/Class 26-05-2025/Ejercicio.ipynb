{
 "cells": [
  {
   "cell_type": "markdown",
   "id": "0b848e69",
   "metadata": {},
   "source": [
    "# Syntetic data Generation\n",
    "\n",
    "This is just an _example_ ofhow to generate syntetic data using the `faker` library in Python.\n",
    "\n",
    "# Generar un nombre de usuario dinámico usando nombre, inicial del apellido y un número aleatorio\n",
    "    name_parts = person['name'].lower().replace('.', '').split()\n",
    "    if len(name_parts) > 1:\n",
    "        username = f\"{name_parts[0]}.{name_parts[1][0]}{random.randint(10,99)}\"\n",
    "    else:\n",
    "        username = f\"{name_parts[0]}{random.randint(100,999)}\""
   ]
  },
  {
   "cell_type": "code",
   "execution_count": 21,
   "id": "fd2cad3c",
   "metadata": {},
   "outputs": [
    {
     "name": "stdout",
     "output_type": "stream",
     "text": [
      "Requirement already satisfied: faker in c:\\users\\user\\.pyenv\\pyenv-win\\versions\\3.12.4\\lib\\site-packages (37.3.0)\n",
      "Requirement already satisfied: tzdata in c:\\users\\user\\.pyenv\\pyenv-win\\versions\\3.12.4\\lib\\site-packages (from faker) (2025.2)\n",
      "Note: you may need to restart the kernel to use updated packages.\n"
     ]
    },
    {
     "name": "stderr",
     "output_type": "stream",
     "text": [
      "\n",
      "[notice] A new release of pip is available: 24.3.1 -> 25.1.1\n",
      "[notice] To update, run: c:\\Users\\user\\.pyenv\\pyenv-win\\versions\\3.12.4\\python.exe -m pip install --upgrade pip\n"
     ]
    },
    {
     "name": "stdout",
     "output_type": "stream",
     "text": [
      "Collecting numpy\n",
      "  Downloading numpy-2.2.6-cp312-cp312-win_amd64.whl.metadata (60 kB)\n",
      "Downloading numpy-2.2.6-cp312-cp312-win_amd64.whl (12.6 MB)\n",
      "   ---------------------------------------- 0.0/12.6 MB ? eta -:--:--\n",
      "   ------- -------------------------------- 2.4/12.6 MB 11.2 MB/s eta 0:00:01\n",
      "   --------------- ------------------------ 5.0/12.6 MB 11.6 MB/s eta 0:00:01\n",
      "   ------------------------ --------------- 7.6/12.6 MB 11.7 MB/s eta 0:00:01\n",
      "   ------------------------------- -------- 10.0/12.6 MB 11.7 MB/s eta 0:00:01\n",
      "   ---------------------------------------  12.3/12.6 MB 11.7 MB/s eta 0:00:01\n",
      "   ---------------------------------------- 12.6/12.6 MB 11.3 MB/s eta 0:00:00\n",
      "Installing collected packages: numpy\n",
      "Successfully installed numpy-2.2.6\n",
      "Note: you may need to restart the kernel to use updated packages.\n"
     ]
    },
    {
     "name": "stderr",
     "output_type": "stream",
     "text": [
      "  WARNING: The scripts f2py.exe and numpy-config.exe are installed in 'c:\\Users\\user\\.pyenv\\pyenv-win\\versions\\3.12.4\\Scripts' which is not on PATH.\n",
      "  Consider adding this directory to PATH or, if you prefer to suppress this warning, use --no-warn-script-location.\n",
      "\n",
      "[notice] A new release of pip is available: 24.3.1 -> 25.1.1\n",
      "[notice] To update, run: c:\\Users\\user\\.pyenv\\pyenv-win\\versions\\3.12.4\\python.exe -m pip install --upgrade pip\n"
     ]
    }
   ],
   "source": [
    "# install dependencies\n",
    "%pip install faker\n",
    "%pip install numpy"
   ]
  },
  {
   "cell_type": "code",
   "execution_count": 3,
   "id": "cf3baa2d",
   "metadata": {},
   "outputs": [],
   "source": [
    "# Import and create connection\n",
    "from faker import Faker\n",
    "import json\n",
    "import numpy as np\n",
    "\n",
    "generation = Faker()\n"
   ]
  },
  {
   "cell_type": "code",
   "execution_count": null,
   "id": "a2cd56be",
   "metadata": {},
   "outputs": [
    {
     "name": "stdout",
     "output_type": "stream",
     "text": [
      "Mark Johnson\n",
      "0252 Koch Prairie Apt. 817\n",
      "Dariusside, SC 08194\n"
     ]
    }
   ],
   "source": [
    "population = []\n",
    "categories = ['Student', 'Professor', 'Administrator']\n",
    "\n",
    "def username(name):\n",
    "    parts = name.lower().split()\n",
    "    return parts[0][0] + parts[1]\n",
    "for i in range(20):\n",
    "    person = {}\n",
    "    person['name'] = generation.name()\n",
    "    person['address'] = generation.address()\n",
    "    person['email'] = person['name'].lower().replace(' ', '.') + '@udistrital.edu.co'\n",
    "    person['username'] = username(person['name'])\n",
    "    person['country'] = generation.country()\n",
    "    person['category'] = np.random.choice(categories)\n",
    "    if generation.boolean():\n",
    "        person['phone_number'] = generation.phone_number()\n",
    "    population.append(person)\n",
    "\n",
    "with open('person.json', 'w') as f:\n",
    "    json.dump(population, f, indent=4)"
   ]
  },
  {
   "cell_type": "code",
   "execution_count": 5,
   "id": "11acdcd7",
   "metadata": {},
   "outputs": [],
   "source": [
    "num_records = 1000\n",
    "batch_size = 100\n",
    "population = []\n",
    "categories = ['Student', 'Professor', 'Administrator']\n",
    "\n",
    "def username(name):\n",
    "    parts = name.lower().split()\n",
    "    return parts[0][0] + parts[1]\n",
    "for batch_start in range(0, num_records, batch_size):\n",
    "    batch = []\n",
    "    for _ in range(batch_size):\n",
    "        person = {}\n",
    "        person['name'] = generation.name()\n",
    "        person['address'] = generation.address()\n",
    "        person['email'] = person['name'].lower().replace(' ', '.') + '@udistrital.edu.co'\n",
    "        person['username'] = username(person['name'])\n",
    "        person['country'] = generation.country()\n",
    "        person['category'] = np.random.choice(categories)\n",
    "        if generation.boolean():\n",
    "            person['phone_number'] = generation.phone_number()\n",
    "        batch.append(person)\n",
    "    with open(f'person_{batch_start//batch_size + 1}.json', 'w') as f:\n",
    "        json.dump(batch, f, indent=4)\n",
    "    population.extend(batch)"
   ]
  }
 ],
 "metadata": {
  "kernelspec": {
   "display_name": "3.12.4",
   "language": "python",
   "name": "python3"
  },
  "language_info": {
   "codemirror_mode": {
    "name": "ipython",
    "version": 3
   },
   "file_extension": ".py",
   "mimetype": "text/x-python",
   "name": "python",
   "nbconvert_exporter": "python",
   "pygments_lexer": "ipython3",
   "version": "3.12.4"
  }
 },
 "nbformat": 4,
 "nbformat_minor": 5
}
